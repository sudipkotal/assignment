{
 "cells": [
  {
   "cell_type": "code",
   "execution_count": 1,
   "id": "daa9f8e5",
   "metadata": {},
   "outputs": [
    {
     "name": "stdout",
     "output_type": "stream",
     "text": [
      "Enter the percentage value of the marks: 56\n",
      "it is grade D\n"
     ]
    }
   ],
   "source": [
    "#Question 1\n",
    "n=int(input(\"Enter the percentage value of the marks: \"))\n",
    "if n >90:\n",
    "    print(\"it is grade A\")\n",
    "elif n>80 and n<=90:\n",
    "    print(\"it is grade B\")\n",
    "elif n>=60 and n<=80:\n",
    "    print(\"it is grade C\")\n",
    "elif n<60:\n",
    "    print(\"it is grade D\")"
   ]
  },
  {
   "cell_type": "code",
   "execution_count": 2,
   "id": "9fdffe45",
   "metadata": {},
   "outputs": [
    {
     "name": "stdout",
     "output_type": "stream",
     "text": [
      "Enter the price of a bike: 98700\n",
      "10% road tax have to be paid\n"
     ]
    }
   ],
   "source": [
    "#Question 2\n",
    "n=int(input(\"Enter the price of a bike: \"))\n",
    "if n >100000:\n",
    "    print(\"15% road tax have to be paid\")\n",
    "if n >50000 and n<=100000:\n",
    "    print(\"10% road tax have to be paid\")\n",
    "if n <=50000:\n",
    "    print(\"5% road tax have to be paid\")"
   ]
  },
  {
   "cell_type": "code",
   "execution_count": 3,
   "id": "975771a9",
   "metadata": {},
   "outputs": [
    {
     "name": "stdout",
     "output_type": "stream",
     "text": [
      "Enter any city among : Delhi, Agra, JaipurJaipur\n",
      "In Jaipur there is Jal Mahal\n"
     ]
    }
   ],
   "source": [
    "#Question 3\n",
    "n=input(\"Enter any city among : Delhi, Agra, Jaipur\")\n",
    "if n =='Delhi':\n",
    "    print(\"In Delhi there is Red Fort\")\n",
    "if n =='Agra':\n",
    "    print(\"In Agra there is Taj Mahal\")\n",
    "if n=='Jaipur':\n",
    "    print(\"In Jaipur there is Jal Mahal\")"
   ]
  },
  {
   "cell_type": "code",
   "execution_count": 4,
   "id": "e09cc369",
   "metadata": {},
   "outputs": [
    {
     "name": "stdout",
     "output_type": "stream",
     "text": [
      "Enter the number greter than 10: 37\n",
      "2\n"
     ]
    }
   ],
   "source": [
    "#Question 4\n",
    "n=int(input(\"Enter the number greter than 10: \"))\n",
    "count=0\n",
    "while n > 10:\n",
    "    n = n//3\n",
    "    count = count+1\n",
    "print(count)"
   ]
  },
  {
   "cell_type": "code",
   "execution_count": null,
   "id": "ac6c7be3",
   "metadata": {},
   "outputs": [],
   "source": [
    "#Question 5\n",
    "In Python, a while loop is used to execute a block of statements repeatedly until a given condition is satisfied\n",
    "\n",
    "Here's an example of a while loop in Python that prints the numbers from 1 to 10:\n",
    "\n",
    "i = 1\n",
    "while i <= 10:\n",
    "  print(i)\n",
    "  i += 1"
   ]
  },
  {
   "cell_type": "code",
   "execution_count": 5,
   "id": "4c2eff67",
   "metadata": {},
   "outputs": [
    {
     "name": "stdout",
     "output_type": "stream",
     "text": [
      "*\n",
      "**\n",
      "***\n",
      "****\n",
      "*****\n"
     ]
    }
   ],
   "source": [
    "#Question 6a\n",
    "rows = 5\n",
    "i = 1\n",
    "while i <= rows:\n",
    "    j = 1\n",
    "    while j <= i:\n",
    "        print(\"*\", end=\"\")\n",
    "        j += 1\n",
    "    print()\n",
    "    i += 1"
   ]
  },
  {
   "cell_type": "code",
   "execution_count": 6,
   "id": "d9b0ea9a",
   "metadata": {},
   "outputs": [
    {
     "name": "stdout",
     "output_type": "stream",
     "text": [
      "*****\n",
      "****\n",
      "***\n",
      "**\n",
      "*\n"
     ]
    }
   ],
   "source": [
    "#Question 6b\n",
    "rows = 5\n",
    "i = rows\n",
    "while i >= 1:\n",
    "    j = 1\n",
    "    while j <= i:\n",
    "        print(\"*\", end=\"\")\n",
    "        j += 1\n",
    "    print()\n",
    "    i -= 1"
   ]
  },
  {
   "cell_type": "code",
   "execution_count": 8,
   "id": "6b9ab9ff",
   "metadata": {},
   "outputs": [
    {
     "name": "stdout",
     "output_type": "stream",
     "text": [
      "   *\n",
      "  ***\n",
      " *****\n",
      "*******\n",
      " *****\n",
      "  ***\n",
      "   *\n"
     ]
    }
   ],
   "source": [
    "#Question 6c\n",
    "rows = 4\n",
    "i = 1\n",
    "while i <= rows:\n",
    "    j = 1\n",
    "    while j <= rows - i:\n",
    "        print(\" \", end=\"\")\n",
    "        j += 1\n",
    "    k = 1\n",
    "    while k <= 2 * i - 1:\n",
    "        print(\"*\", end=\"\")\n",
    "        k += 1\n",
    "    print()\n",
    "    i += 1\n",
    "\n",
    "i = rows - 1\n",
    "while i >= 1:\n",
    "    j = 1\n",
    "    while j <= rows - i:\n",
    "        print(\" \", end=\"\")\n",
    "        j += 1\n",
    "    k = 1\n",
    "    while k <= 2 * i - 1:\n",
    "        print(\"*\", end=\"\")\n",
    "        k += 1\n",
    "    print()\n",
    "    i -= 1"
   ]
  },
  {
   "cell_type": "code",
   "execution_count": 9,
   "id": "44920ac8",
   "metadata": {},
   "outputs": [
    {
     "name": "stdout",
     "output_type": "stream",
     "text": [
      "10\n",
      "9\n",
      "8\n",
      "7\n",
      "6\n",
      "5\n",
      "4\n",
      "3\n",
      "2\n",
      "1\n"
     ]
    }
   ],
   "source": [
    "#Question 7\n",
    "i=10\n",
    "while i>=1:\n",
    "    print(i)\n",
    "    i-=1"
   ]
  },
  {
   "cell_type": "code",
   "execution_count": null,
   "id": "e0a5a465",
   "metadata": {},
   "outputs": [],
   "source": []
  }
 ],
 "metadata": {
  "kernelspec": {
   "display_name": "Python 3 (ipykernel)",
   "language": "python",
   "name": "python3"
  },
  "language_info": {
   "codemirror_mode": {
    "name": "ipython",
    "version": 3
   },
   "file_extension": ".py",
   "mimetype": "text/x-python",
   "name": "python",
   "nbconvert_exporter": "python",
   "pygments_lexer": "ipython3",
   "version": "3.9.12"
  }
 },
 "nbformat": 4,
 "nbformat_minor": 5
}
