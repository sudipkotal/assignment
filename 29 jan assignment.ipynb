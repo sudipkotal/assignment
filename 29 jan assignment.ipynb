{
 "cells": [
  {
   "cell_type": "code",
   "execution_count": null,
   "id": "cc42d120",
   "metadata": {},
   "outputs": [],
   "source": [
    "#Question 1\n",
    "Guido van Rossum developed python programming language"
   ]
  },
  {
   "cell_type": "code",
   "execution_count": null,
   "id": "b25b5f54",
   "metadata": {},
   "outputs": [],
   "source": [
    "#Question 2\n",
    "Python supports object-oriented programming and structured progamming"
   ]
  },
  {
   "cell_type": "code",
   "execution_count": null,
   "id": "b2ac1626",
   "metadata": {},
   "outputs": [],
   "source": [
    "#Question 3\n",
    "Python is case-sensitive language when dealing with identifiers"
   ]
  },
  {
   "cell_type": "code",
   "execution_count": null,
   "id": "d5fe485f",
   "metadata": {},
   "outputs": [],
   "source": [
    "#Question 4\n",
    "Correct extension of python file is .py"
   ]
  },
  {
   "cell_type": "code",
   "execution_count": null,
   "id": "f6f93378",
   "metadata": {},
   "outputs": [],
   "source": [
    "#Question 5\n",
    "Python is code interpreted language"
   ]
  },
  {
   "cell_type": "code",
   "execution_count": null,
   "id": "e4ea7632",
   "metadata": {},
   "outputs": [],
   "source": [
    "#Question 6\n",
    "a module, a function body, and a class definition are used to definein python language"
   ]
  },
  {
   "cell_type": "code",
   "execution_count": null,
   "id": "9f09b93e",
   "metadata": {},
   "outputs": [],
   "source": [
    "# Question 7\n",
    "a single # charcter used to give single-line comments in Python"
   ]
  },
  {
   "cell_type": "code",
   "execution_count": null,
   "id": "4e07130d",
   "metadata": {},
   "outputs": [],
   "source": [
    "# Question 8\n",
    "we can use the sys module to find the version of Python that we are currently working on"
   ]
  },
  {
   "cell_type": "code",
   "execution_count": null,
   "id": "55e7eb60",
   "metadata": {},
   "outputs": [],
   "source": [
    "# Question 9\n",
    "python supports the creation of anoymous function at runtime ,using construct calling lambda."
   ]
  },
  {
   "cell_type": "code",
   "execution_count": null,
   "id": "43441de2",
   "metadata": {},
   "outputs": [],
   "source": [
    "# Question 10\n",
    "PIP is a package-management system written in Python and is used to install and manage software packages."
   ]
  },
  {
   "cell_type": "code",
   "execution_count": null,
   "id": "8921781b",
   "metadata": {},
   "outputs": [],
   "source": [
    "# Question 11\n",
    "print,len,dict are some bulid in function in python"
   ]
  },
  {
   "cell_type": "code",
   "execution_count": null,
   "id": "69f7dcf8",
   "metadata": {},
   "outputs": [],
   "source": [
    "# Question 12\n",
    "An identifier can have a maximum length of 79 characters in Python."
   ]
  },
  {
   "cell_type": "code",
   "execution_count": null,
   "id": "8ba5d532",
   "metadata": {},
   "outputs": [],
   "source": [
    "# Question 13\n",
    "Here are some benefits of using Python:\n",
    "1. Easy to learn and use: Python has a simple syntax that is easy to read and write. It is an interpreted language, which means that it does not need to be compiled before running.\n",
    "2. Improved productivity: Due to its simplicity, Python allows developers to write code faster and with fewer lines of code than other programming languages."
   ]
  },
  {
   "cell_type": "code",
   "execution_count": null,
   "id": "8735a7a2",
   "metadata": {},
   "outputs": [],
   "source": [
    "# Question 14\n",
    "Memory management in Python involves the management of a private heap that contains all Python objects and data structures. The Python memory manager ensures the management of this private heap internally."
   ]
  },
  {
   "cell_type": "code",
   "execution_count": null,
   "id": "4edaf583",
   "metadata": {},
   "outputs": [],
   "source": [
    "# Question 15\n",
    "To install Python on Windows and set the PATH variable, follow these steps:\n",
    "1. Download the latest version of Python from the official website .\n",
    "2. Run the installer and select \"Add Python to PATH\" during installation.\n",
    "3. After installation, open a command prompt and type python --version to verify that Python is installed correctly."
   ]
  },
  {
   "cell_type": "code",
   "execution_count": null,
   "id": "ce684dc8",
   "metadata": {},
   "outputs": [],
   "source": [
    "# Question 16\n",
    "Yes indentation requiered in python"
   ]
  }
 ],
 "metadata": {
  "kernelspec": {
   "display_name": "Python 3 (ipykernel)",
   "language": "python",
   "name": "python3"
  },
  "language_info": {
   "codemirror_mode": {
    "name": "ipython",
    "version": 3
   },
   "file_extension": ".py",
   "mimetype": "text/x-python",
   "name": "python",
   "nbconvert_exporter": "python",
   "pygments_lexer": "ipython3",
   "version": "3.9.12"
  }
 },
 "nbformat": 4,
 "nbformat_minor": 5
}
